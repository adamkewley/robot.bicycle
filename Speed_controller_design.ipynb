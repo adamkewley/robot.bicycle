{
 "metadata": {
  "name": "Speed controller design"
 },
 "nbformat": 3,
 "nbformat_minor": 0,
 "worksheets": [
  {
   "cells": [
    {
     "cell_type": "markdown",
     "metadata": {},
     "source": [
      "* Observer and feedback controller design for rear wheel speed control.\n",
      "\n",
      "* Design notes:\n",
      "  - US Digital optical encoder has 50 CPR of encoder shaft.\n",
      "  - 100:25 wheel to encoder gearing implies 200 CPR of wheel.\n",
      "  - Detecting rising and falling edges of A or B channels results in 400 CPR\n",
      "    of wheel (half quadrature).\n",
      "  - Detecting rising and falling edges of A and B channels results in 800 CPR\n",
      "    (full quadrature).\n",
      "  - Wheel angle measurement uses full quadrature.  One timer count represents\n",
      "    2*pi/800 radians\n",
      "  - Wheel speed measurement uses half quadrature.  One cycle between a rising\n",
      "    and falling edge represents 2*pi/400 radians.\n",
      "  - Encoder rising and falling edges occur asynchronously from main control\n",
      "    loop.\n",
      "  - Absolute position of wheel is generally not of interest.\n",
      "  - Speed of wheel is of primary interest because bicycle dynamics are dependent upon speed."
     ]
    },
    {
     "cell_type": "code",
     "collapsed": false,
     "input": [
      "from sympy import symbols, Poly\n",
      "import numpy as np\n",
      "\n",
      "c, J, kT, T, s, w, x, z, I = symbols('c J kT T s w x z I')\n",
      "#bilinear_transform = {s : 2/T*(z-1)/(z+1)}\n",
      "forward_difference_transform = {s : (z-1)/T}\n",
      "\n",
      "# Continuous time transfer function from I(s) to w(s) of the following plant\n",
      "# model:\n",
      "#   dw/dt = -c/J*w + kT/J*I\n",
      "G_s = kT/J/(s + c/J)\n",
      "\n",
      "G_z_num, G_z_den = G_s.subs(forward_difference_transform).as_numer_denom()\n",
      "G_z_den = Poly(G_z_den, z)\n",
      "\n",
      "G_z_num = Poly(G_z_num / G_z_den.LC(), z) # divide by leading coefficient of den\n",
      "G_z_den = G_z_den.monic()                 # make denominator monic\n",
      "assert(G_z_den.coeffs()[0] == 1)\n",
      "print(G_z_num)\n",
      "print(G_z_den)\n",
      "print(G_z_num / G_z_den)\n",
      "\n",
      "A = - G_z_den.coeffs()[1]\n",
      "B = G_z_num.coeffs()[0]\n",
      "C = 1\n"
     ],
     "language": "python",
     "metadata": {},
     "outputs": [
      {
       "output_type": "stream",
       "stream": "stdout",
       "text": [
        "Poly(T*kT/J, z, domain='ZZ(J,T,kT)')\n",
        "Poly(z + (-J + T*c)/J, z, domain='ZZ(c,J,T)')\n",
        "T*kT/(J*(z + (-J + T*c)/J))\n"
       ]
      }
     ],
     "prompt_number": 13
    },
    {
     "cell_type": "code",
     "collapsed": false,
     "input": [
      "for n, m in [('A', A), ('B', B), ('C', C)]: print(n + \" = \" + str(m))\n"
     ],
     "language": "python",
     "metadata": {},
     "outputs": [
      {
       "output_type": "stream",
       "stream": "stdout",
       "text": [
        "A = -(-J + T*c)/J\n",
        "B = T*kT/J\n",
        "C = 1\n"
       ]
      }
     ],
     "prompt_number": 14
    },
    {
     "cell_type": "code",
     "collapsed": false,
     "input": [],
     "language": "python",
     "metadata": {},
     "outputs": [],
     "prompt_number": 2
    }
   ],
   "metadata": {}
  }
 ]
}